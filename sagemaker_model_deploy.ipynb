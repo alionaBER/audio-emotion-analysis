{
 "cells": [
  {
   "cell_type": "code",
   "execution_count": 1,
   "metadata": {},
   "outputs": [],
   "source": [
    "import boto3\n",
    "import sagemaker\n",
    "import os\n",
    "import numpy as np"
   ]
  },
  {
   "cell_type": "code",
   "execution_count": 2,
   "metadata": {},
   "outputs": [],
   "source": [
    "# session and role\n",
    "sagemaker_session = sagemaker.Session()\n",
    "role = sagemaker.get_execution_role()\n",
    "\n",
    "# location of stored sata\n",
    "data_dir = 'modelling'\n",
    "# S3 location\n",
    "bucket = sagemaker_session.default_bucket()\n",
    "# set prefix, a descriptive name for a directory  \n",
    "prefix = 'sagemaker/audio_emotion_detection'"
   ]
  },
  {
   "cell_type": "markdown",
   "metadata": {},
   "source": [
    "## Load and deploy saved model\n",
    "\n",
    "An AWS blogpost about deployment of a keras model on SageMaker (https://aws.amazon.com/blogs/machine-learning/deploy-trained-keras-or-tensorflow-models-using-amazon-sagemaker/) gave me a good general idea how to proceed. First, I changed the training approach to save model in a format enabling deployment on SageMaker. The blogpost described a workaround to deploy a model, by using sagemaker.tensorflow.model.TensorFlowModel and simulating its creation with an empty train.py file. As I discovered from the Sagemaker documentation, there is now a better way to deploy directly from model artifacts (https://sagemaker.readthedocs.io/en/stable/using_tf.html#deploying-directly-from-model-artifacts)."
   ]
  },
  {
   "cell_type": "code",
   "execution_count": 3,
   "metadata": {},
   "outputs": [
    {
     "name": "stdout",
     "output_type": "stream",
     "text": [
      "saved_model.pb\tvariables\n"
     ]
    }
   ],
   "source": [
    "!ls export/1"
   ]
  },
  {
   "cell_type": "code",
   "execution_count": 4,
   "metadata": {},
   "outputs": [],
   "source": [
    "#Tar the entire directory and upload to Amazon S3\n",
    "import tarfile\n",
    "with tarfile.open('model.tar.gz', mode='w:gz') as archive:\n",
    "    archive.add('export', recursive=True)\n",
    "\n",
    "inputs = sagemaker_session.upload_data(path='model.tar.gz', key_prefix=prefix)"
   ]
  },
  {
   "cell_type": "markdown",
   "metadata": {},
   "source": [
    "## Deploy the trained model\n",
    "\n",
    "TensorFlow Serving Model\n",
    "https://sagemaker.readthedocs.io/en/stable/sagemaker.tensorflow.html\n",
    "\n",
    "Specification of *framework_version='2.0.0'* alighns the TensorFlow version of the trained model with the version of the serving model. Otherwise, an error was thrown.\n"
   ]
  },
  {
   "cell_type": "code",
   "execution_count": 5,
   "metadata": {},
   "outputs": [],
   "source": [
    "from sagemaker.tensorflow.serving import Model\n",
    "model = Model(model_data = 's3://' + bucket + '/' + prefix + '/' + 'model.tar.gz', \n",
    "              role = role,\n",
    "             framework_version='2.0.0')"
   ]
  },
  {
   "cell_type": "code",
   "execution_count": 6,
   "metadata": {},
   "outputs": [
    {
     "name": "stdout",
     "output_type": "stream",
     "text": [
      "--------------------------------------------------------------------------------------!CPU times: user 462 ms, sys: 58.3 ms, total: 520 ms\n",
      "Wall time: 7min 13s\n"
     ]
    }
   ],
   "source": [
    "%%time\n",
    "predictor = model.deploy(initial_instance_count=1, \n",
    "                         instance_type='ml.m4.xlarge')"
   ]
  },
  {
   "cell_type": "code",
   "execution_count": 7,
   "metadata": {},
   "outputs": [
    {
     "data": {
      "text/plain": [
       "'tensorflow-inference-2019-12-30-19-32-10-123'"
      ]
     },
     "execution_count": 7,
     "metadata": {},
     "output_type": "execute_result"
    }
   ],
   "source": [
    "predictor.endpoint"
   ]
  },
  {
   "cell_type": "markdown",
   "metadata": {},
   "source": [
    "## Making predictions\n",
    "\n",
    "Sending a preprocessed sound data (MFCC feature) to the endpoint results in probability prediction for each of the classes. The endpoint accepts different formats and an appropriate should be chosen to be used with the lambda function."
   ]
  },
  {
   "cell_type": "markdown",
   "metadata": {},
   "source": [
    "JSON-formats:"
   ]
  },
  {
   "cell_type": "code",
   "execution_count": 8,
   "metadata": {},
   "outputs": [],
   "source": [
    "mfcc = [-626.9103, 82.518814, 13.619398, 17.021456, -4.8949747, -4.666426, -17.72673, -9.443328, -11.367254, -10.0687, -5.5265326, -5.759393, -9.602776, -6.8477325, -6.8149705, -6.11381, -4.946893, -3.0180538, -4.766686, -6.5694504, -6.881639, -5.4145484, -8.107064, -3.1986628, -5.3452864, -3.0117583, -4.903243, -2.4027758, -2.3773522, 1.0952495]"
   ]
  },
  {
   "cell_type": "code",
   "execution_count": 9,
   "metadata": {},
   "outputs": [],
   "source": [
    "input = {\n",
    "  'instances': [mfcc]\n",
    "}"
   ]
  },
  {
   "cell_type": "code",
   "execution_count": 10,
   "metadata": {},
   "outputs": [
    {
     "data": {
      "text/plain": [
       "{'predictions': [[6.27396901e-19,\n",
       "   8.07409707e-24,\n",
       "   1.41264081e-05,\n",
       "   0.994807065,\n",
       "   0.00517883385]]}"
      ]
     },
     "execution_count": 10,
     "metadata": {},
     "output_type": "execute_result"
    }
   ],
   "source": [
    "result = predictor.predict(input)\n",
    "result"
   ]
  },
  {
   "cell_type": "code",
   "execution_count": 11,
   "metadata": {},
   "outputs": [],
   "source": [
    "input = [mfcc]"
   ]
  },
  {
   "cell_type": "code",
   "execution_count": 12,
   "metadata": {},
   "outputs": [
    {
     "data": {
      "text/plain": [
       "{'predictions': [[6.27396901e-19,\n",
       "   8.07409707e-24,\n",
       "   1.41264081e-05,\n",
       "   0.994807065,\n",
       "   0.00517883385]]}"
      ]
     },
     "execution_count": 12,
     "metadata": {},
     "output_type": "execute_result"
    }
   ],
   "source": [
    "result = predictor.predict(input)\n",
    "result"
   ]
  },
  {
   "cell_type": "markdown",
   "metadata": {},
   "source": [
    "CSV (comma-separated values) fortmat:"
   ]
  },
  {
   "cell_type": "code",
   "execution_count": 13,
   "metadata": {},
   "outputs": [
    {
     "data": {
      "text/plain": [
       "{'predictions': [[6.27396901e-19,\n",
       "   8.07409707e-24,\n",
       "   1.41264081e-05,\n",
       "   0.994807065,\n",
       "   0.00517883385]]}"
      ]
     },
     "execution_count": 13,
     "metadata": {},
     "output_type": "execute_result"
    }
   ],
   "source": [
    "from sagemaker.tensorflow.serving import Predictor\n",
    "# create a Predictor with JSON serialization\n",
    "predictor = Predictor(predictor.endpoint, serializer=sagemaker.predictor.csv_serializer)\n",
    "\n",
    "# CSV-formatted string input\n",
    "input = mfcc\n",
    "\n",
    "result = predictor.predict(input)\n",
    "result"
   ]
  },
  {
   "cell_type": "code",
   "execution_count": 14,
   "metadata": {},
   "outputs": [],
   "source": [
    "result = result['predictions'][0]"
   ]
  },
  {
   "cell_type": "markdown",
   "metadata": {},
   "source": [
    "Transform into a label prediction:"
   ]
  },
  {
   "cell_type": "code",
   "execution_count": 15,
   "metadata": {},
   "outputs": [],
   "source": [
    "class_mapping_dict = {'angry': 0, 'fear': 1, 'happy': 2, 'neutral': 3, 'sad': 4}"
   ]
  },
  {
   "cell_type": "code",
   "execution_count": 16,
   "metadata": {},
   "outputs": [
    {
     "data": {
      "text/plain": [
       "'neutral'"
      ]
     },
     "execution_count": 16,
     "metadata": {},
     "output_type": "execute_result"
    }
   ],
   "source": [
    "# get the index of a maximum value\n",
    "max_idx = np.argmax(result)\n",
    "# get key of a value equal to the index of a maximum value\n",
    "# sourced from https://stackoverflow.com/questions/8023306/get-key-by-value-in-dictionary\n",
    "result_label = list(class_mapping_dict.keys())[list(class_mapping_dict.values()).index(max_idx)]\n",
    "result_label"
   ]
  },
  {
   "cell_type": "markdown",
   "metadata": {},
   "source": [
    "## Invoke endpoint as by a Lambda function"
   ]
  },
  {
   "cell_type": "code",
   "execution_count": 17,
   "metadata": {},
   "outputs": [],
   "source": [
    "input = {'instances': [mfcc]}"
   ]
  },
  {
   "cell_type": "code",
   "execution_count": 18,
   "metadata": {},
   "outputs": [
    {
     "data": {
      "text/plain": [
       "'{\"instances\": [[-626.9103, 82.518814, 13.619398, 17.021456, -4.8949747, -4.666426, -17.72673, -9.443328, -11.367254, -10.0687, -5.5265326, -5.759393, -9.602776, -6.8477325, -6.8149705, -6.11381, -4.946893, -3.0180538, -4.766686, -6.5694504, -6.881639, -5.4145484, -8.107064, -3.1986628, -5.3452864, -3.0117583, -4.903243, -2.4027758, -2.3773522, 1.0952495]]}'"
      ]
     },
     "execution_count": 18,
     "metadata": {},
     "output_type": "execute_result"
    }
   ],
   "source": [
    "import json\n",
    "json.dumps(input)"
   ]
  },
  {
   "cell_type": "code",
   "execution_count": 19,
   "metadata": {},
   "outputs": [],
   "source": [
    "import boto3\n",
    "\n",
    "runtime = boto3.Session().client('sagemaker-runtime')"
   ]
  },
  {
   "cell_type": "code",
   "execution_count": 20,
   "metadata": {},
   "outputs": [],
   "source": [
    "# Now we use the SageMaker runtime to invoke our endpoint, sending the review we were given\n",
    "response = runtime.invoke_endpoint(EndpointName = predictor.endpoint, # The name of the endpoint\n",
    "                                       ContentType = 'application/json', # The data format that is expected\n",
    "                                       Body = json.dumps(input) # The preprocessed audio file\n",
    "                                  )"
   ]
  },
  {
   "cell_type": "code",
   "execution_count": 21,
   "metadata": {},
   "outputs": [
    {
     "data": {
      "text/plain": [
       "{'ResponseMetadata': {'RequestId': 'b8ec8a9c-b411-4475-b308-df001f69913c',\n",
       "  'HTTPStatusCode': 200,\n",
       "  'HTTPHeaders': {'x-amzn-requestid': 'b8ec8a9c-b411-4475-b308-df001f69913c',\n",
       "   'x-amzn-invoked-production-variant': 'AllTraffic',\n",
       "   'date': 'Mon, 30 Dec 2019 19:40:23 GMT',\n",
       "   'content-type': 'application/json',\n",
       "   'content-length': '106'},\n",
       "  'RetryAttempts': 0},\n",
       " 'ContentType': 'application/json',\n",
       " 'InvokedProductionVariant': 'AllTraffic',\n",
       " 'Body': <botocore.response.StreamingBody at 0x7ffa83afa208>}"
      ]
     },
     "execution_count": 21,
     "metadata": {},
     "output_type": "execute_result"
    }
   ],
   "source": [
    "response"
   ]
  },
  {
   "cell_type": "code",
   "execution_count": 22,
   "metadata": {},
   "outputs": [
    {
     "data": {
      "text/plain": [
       "'{\\n    \"predictions\": [[6.27396901e-19, 8.07409707e-24, 1.41264081e-05, 0.994807065, 0.00517883385]\\n    ]\\n}'"
      ]
     },
     "execution_count": 22,
     "metadata": {},
     "output_type": "execute_result"
    }
   ],
   "source": [
    "# The response is an HTTP response whose body contains the result of our inference\n",
    "result = response['Body'].read().decode('utf-8')\n",
    "result"
   ]
  },
  {
   "cell_type": "code",
   "execution_count": 23,
   "metadata": {},
   "outputs": [],
   "source": [
    "# thansform to json\n",
    "result = json.loads(result)"
   ]
  },
  {
   "cell_type": "code",
   "execution_count": 24,
   "metadata": {},
   "outputs": [],
   "source": [
    "# extract an array of probability predictions\n",
    "result = result['predictions'][0]\n",
    "    \n",
    "# get the index of a maximum value\n",
    "max_idx = np.argmax(result)\n",
    "# get key of a value equal to the index of a maximum value\n",
    "# sourced from https://stackoverflow.com/questions/8023306/get-key-by-value-in-dictionary\n",
    "result_label = list(class_mapping_dict.keys())[list(class_mapping_dict.values()).index(max_idx)]"
   ]
  },
  {
   "cell_type": "code",
   "execution_count": 25,
   "metadata": {},
   "outputs": [
    {
     "data": {
      "text/plain": [
       "'neutral'"
      ]
     },
     "execution_count": 25,
     "metadata": {},
     "output_type": "execute_result"
    }
   ],
   "source": [
    "result_label"
   ]
  },
  {
   "cell_type": "code",
   "execution_count": null,
   "metadata": {},
   "outputs": [],
   "source": []
  },
  {
   "cell_type": "code",
   "execution_count": null,
   "metadata": {},
   "outputs": [],
   "source": []
  },
  {
   "cell_type": "code",
   "execution_count": null,
   "metadata": {},
   "outputs": [],
   "source": []
  },
  {
   "cell_type": "code",
   "execution_count": 26,
   "metadata": {
    "local_metadata": {},
    "remote_metadata": {
     "pycharm": {
      "name": "#%%\n"
     }
    }
   },
   "outputs": [],
   "source": [
    "# Accepts a predictor endpoint as input\n",
    "# And deletes the endpoint by name\n",
    "def delete_endpoint(predictor):\n",
    "        try:\n",
    "            boto3.client('sagemaker').delete_endpoint(EndpointName=predictor.endpoint)\n",
    "            print('Deleted {}'.format(predictor.endpoint))\n",
    "        except:\n",
    "            print('Already deleted: {}'.format(predictor.endpoint))\n"
   ]
  },
  {
   "cell_type": "code",
   "execution_count": 27,
   "metadata": {},
   "outputs": [
    {
     "name": "stdout",
     "output_type": "stream",
     "text": [
      "Deleted tensorflow-inference-2019-12-30-19-32-10-123\n"
     ]
    }
   ],
   "source": [
    "delete_endpoint(predictor)"
   ]
  },
  {
   "cell_type": "code",
   "execution_count": null,
   "metadata": {},
   "outputs": [],
   "source": []
  }
 ],
 "metadata": {
  "kernelspec": {
   "display_name": "conda_tensorflow_p36",
   "language": "python",
   "name": "conda_tensorflow_p36"
  },
  "language_info": {
   "codemirror_mode": {
    "name": "ipython",
    "version": 3
   },
   "file_extension": ".py",
   "mimetype": "text/x-python",
   "name": "python",
   "nbconvert_exporter": "python",
   "pygments_lexer": "ipython3",
   "version": "3.6.5"
  },
  "pycharm": {
   "stem_cell": {
    "cell_type": "raw",
    "metadata": {
     "collapsed": false
    },
    "source": []
   }
  }
 },
 "nbformat": 4,
 "nbformat_minor": 4
}
